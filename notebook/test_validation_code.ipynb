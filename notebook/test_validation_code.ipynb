{
 "cells": [
  {
   "cell_type": "code",
   "execution_count": 1,
   "metadata": {
    "collapsed": true
   },
   "outputs": [],
   "source": [
    "from __future__ import division, print_function\n",
    "import os\n",
    "import sys\n",
    "import pandas as pd\n",
    "from datetime import datetime, timedelta\n",
    "import hashlib\n",
    "import logging\n",
    "import importlib\n",
    "import numpy as np\n",
    "import argparse\n",
    "import shutil\n",
    "import subprocess as sb\n",
    "\n",
    "from pyspark.sql import functions as f, types as t\n",
    "from pyspark.sql import SparkSession, Window\n",
    "\n",
    "NUM_PARTITIONS = 1024\n",
    "spark = ( SparkSession\n",
    "             .builder\n",
    "             .config(\"spark.app.name\",\"SmartSaltConfig\")\n",
    "             .config(\"spark.yarn.queue\",\"root.sp_analytics.spark\")\n",
    "             .config(\"spark.default.serializer\",\"org.apache.spark.serializer.KryoSerializer\")\n",
    "             .config(\"spark.speculation\",\"true\")\n",
    "             .config(\"spark.default.parallelism\",str(NUM_PARTITIONS))\n",
    "             .config(\"spark.sql.shuffle.partitions\",str(NUM_PARTITIONS))\n",
    "             .config(\"spark.yarn.executor.memoryOverhead\", str(8192))\n",
    "             .enableHiveSupport()\n",
    "             .getOrCreate() )\n",
    "\n",
    "sc = spark.sparkContext"
   ]
  },
  {
   "cell_type": "code",
   "execution_count": 2,
   "metadata": {
    "collapsed": true
   },
   "outputs": [],
   "source": [
    "account = 'trivago'\n",
    "run_date = \"2019-05-09\"\n",
    "exp_weights = [1]*20\n",
    "exp_groups = [1]*20\n",
    "base_salt = \"B\"\n",
    "control = 0\n",
    "test = 1\n",
    "period = 14\n",
    "ntrials = 500\n",
    "pos = 'All'"
   ]
  },
  {
   "cell_type": "code",
   "execution_count": 3,
   "metadata": {
    "collapsed": false
   },
   "outputs": [
    {
     "name": "stdout",
     "output_type": "stream",
     "text": [
      "/home/lijia/git_tree/lin_jia/meta_experiment_framework/notebook\n"
     ]
    }
   ],
   "source": [
    "current_dir = os.getcwd()\n",
    "print(current_dir)\n",
    "current_dir = current_dir[:current_dir.find('notebook')]\n",
    "mod_file = os.path.join(current_dir, \"exp_lib/python/utils/zip_module.py\")\n",
    "sc.addPyFile(mod_file)"
   ]
  },
  {
   "cell_type": "code",
   "execution_count": 4,
   "metadata": {
    "collapsed": false
   },
   "outputs": [],
   "source": [
    "mod_zipping = importlib.import_module(\"zip_module\")\n",
    "mod_zipping.zip_and_ship_module(current_dir)\n",
    "current_dir = os.getcwd()\n",
    "zipped_file = os.path.join(current_dir,\"exp_lib.zip\")\n",
    "sc.addPyFile(zipped_file)"
   ]
  },
  {
   "cell_type": "code",
   "execution_count": 5,
   "metadata": {
    "collapsed": false
   },
   "outputs": [],
   "source": [
    "mod = importlib.import_module(\"exp_lib.account.{0}\".format(account))"
   ]
  },
  {
   "cell_type": "code",
   "execution_count": 6,
   "metadata": {
    "collapsed": false
   },
   "outputs": [
    {
     "name": "stdout",
     "output_type": "stream",
     "text": [
      "Optimising split on metrics: [<class 'exp_lib.account.trivago.NitsBookings'>, <class 'exp_lib.account.trivago.NitsProfit'>]\n"
     ]
    }
   ],
   "source": [
    "Metrics = [mod.NitsBookings,mod.NitsProfit]\n",
    "print(\"Optimising split on metrics: {}\".format([x for x in Metrics]))"
   ]
  },
  {
   "cell_type": "code",
   "execution_count": 7,
   "metadata": {
    "collapsed": false
   },
   "outputs": [],
   "source": [
    "experiment = mod.account(Metrics,  \n",
    "                         run_date=run_date,\n",
    "                         exp_groups=exp_groups,\n",
    "                         control=control,\n",
    "                         test=test,\n",
    "                         exp_weights = exp_weights, \n",
    "                         period=period,\n",
    "                         base_salt=base_salt,\n",
    "                         ntrials = ntrials, \n",
    "                         pos = pos)"
   ]
  },
  {
   "cell_type": "code",
   "execution_count": 10,
   "metadata": {
    "collapsed": false
   },
   "outputs": [],
   "source": [
    "salt, pae = experiment.get_smart_salt()"
   ]
  },
  {
   "cell_type": "code",
   "execution_count": 15,
   "metadata": {
    "collapsed": false
   },
   "outputs": [],
   "source": [
    "test = [pos]"
   ]
  },
  {
   "cell_type": "code",
   "execution_count": 16,
   "metadata": {
    "collapsed": false
   },
   "outputs": [
    {
     "data": {
      "text/plain": [
       "True"
      ]
     },
     "execution_count": 16,
     "metadata": {},
     "output_type": "execute_result"
    }
   ],
   "source": [
    "test == ['All']"
   ]
  }
 ],
 "metadata": {
  "kernelspec": {
   "display_name": "Python Spark 2.3.1 (packages)",
   "language": "python",
   "name": "spark230withpackages"
  },
  "language_info": {
   "codemirror_mode": {
    "name": "ipython",
    "version": 2
   },
   "file_extension": ".py",
   "mimetype": "text/x-python",
   "name": "python",
   "nbconvert_exporter": "python",
   "pygments_lexer": "ipython2",
   "version": "2.7.13"
  }
 },
 "nbformat": 4,
 "nbformat_minor": 2
}
